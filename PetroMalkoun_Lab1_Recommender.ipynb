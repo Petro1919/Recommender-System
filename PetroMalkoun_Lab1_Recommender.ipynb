{
 "cells": [
  {
   "cell_type": "code",
   "execution_count": 1,
   "metadata": {},
   "outputs": [],
   "source": [
    "import csv\n",
    "import numpy as np\n",
    "import pandas as pd"
   ]
  },
  {
   "cell_type": "code",
   "execution_count": 2,
   "metadata": {},
   "outputs": [],
   "source": [
    "# I actually read the dataset as a csv and did not build it because I want it as a DF\n",
    "input_file=pd.read_csv(\"../../DataSets/movieratings.csv\",header=0)"
   ]
  },
  {
   "cell_type": "code",
   "execution_count": 3,
   "metadata": {},
   "outputs": [],
   "source": [
    "#function that returns the n elements having the best mean (by descending order)\n",
    "def topMean(prefs,n=5):\n",
    "    #calculating the mean  and sorting them by descending order.\n",
    "    #No need to drop NaN's\n",
    "    scores=prefs.mean().sort_values(ascending=False)\n",
    "    return scores[0:n]\n"
   ]
  },
  {
   "cell_type": "code",
   "execution_count": 4,
   "metadata": {},
   "outputs": [
    {
     "data": {
      "text/plain": [
       "318: Shawshank Redemption, The (1994)                      3.600000\n",
       "260: Star Wars: Episode IV - A New Hope (1977)             3.266667\n",
       "541: Blade Runner (1982)                                   3.222222\n",
       "1265: Groundhog Day (1993)                                 3.166667\n",
       "593: Silence of the Lambs, The (1991)                      3.062500\n",
       "296: Pulp Fiction (1994)                                   3.000000\n",
       "1210: Star Wars: Episode VI - Return of the Jedi (1983)    3.000000\n",
       "dtype: float64"
      ]
     },
     "execution_count": 4,
     "metadata": {},
     "output_type": "execute_result"
    }
   ],
   "source": [
    "#calling the topMean function to test it\n",
    "topMean(input_file, 7)\n"
   ]
  },
  {
   "cell_type": "code",
   "execution_count": null,
   "metadata": {},
   "outputs": [],
   "source": [
    "# Output:\n",
    "# 318: Shawshank Redemption, The (1994)                      3.600000\n",
    "# 260: Star Wars: Episode IV - A New Hope (1977)             3.266667\n",
    "# 541: Blade Runner (1982)                                   3.222222\n",
    "# 1265: Groundhog Day (1993)                                 3.166667\n",
    "# 593: Silence of the Lambs, The (1991)                      3.062500\n",
    "# 296: Pulp Fiction (1994)                                   3.000000\n",
    "# 1210: Star Wars: Episode VI - Return of the Jedi (1983)    3.000000\n",
    "# dtype: float64"
   ]
  },
  {
   "cell_type": "code",
   "execution_count": 5,
   "metadata": {},
   "outputs": [],
   "source": [
    "#function that returns the n elements having the highest percentage of\n",
    "# ratings equals or larger than r (by descending ordered)\n",
    "def topPerc(prefs,r=3,n=5):\n",
    "    #changing the shape (turning movie  titles to 1 column) for usage purpose \n",
    "    input_file_2=pd.melt(prefs, id_vars=[\"User\"], var_name='title')\n",
    "    #Keeping only the ratings that are equal or greater than R\n",
    "    rank_r=input_file_2.loc[input_file_2['value'] >= r]  \n",
    "    #counting how many ratings are above the r value\n",
    "    #had to group, count and sum the axis in order to get it because of the new DF format\n",
    "    count_r=rank_r.groupby(['title','value']).count().unstack().sum(axis=1)\n",
    "    #counting all ratings for all the columns in order to use it to compute the %\n",
    "    #used the same command as in the previous one\n",
    "    total_ratings=input_file_2.groupby(['title','value']).count().unstack().sum(axis=1)\n",
    "    #dividing the total number of movies with a ratings higher than R with the total\n",
    "    #number of rating for each movie\n",
    "    scores=(count_r/total_ratings).sort_values(ascending=False)\n",
    "    return scores[0:n]\n"
   ]
  },
  {
   "cell_type": "code",
   "execution_count": 6,
   "metadata": {},
   "outputs": [
    {
     "data": {
      "text/plain": [
       "title\n",
       "318: Shawshank Redemption, The (1994)             0.700000\n",
       "260: Star Wars: Episode IV - A New Hope (1977)    0.533333\n",
       "3578: Gladiator (2000)                            0.500000\n",
       "541: Blade Runner (1982)                          0.444444\n",
       "593: Silence of the Lambs, The (1991)             0.437500\n",
       "2571: Matrix, The (1999)                          0.416667\n",
       "1265: Groundhog Day (1993)                        0.416667\n",
       "34: Babe (1995)                                   0.400000\n",
       "dtype: float64"
      ]
     },
     "execution_count": 6,
     "metadata": {},
     "output_type": "execute_result"
    }
   ],
   "source": [
    "#calling the topPerc function to test it\n",
    "topPerc(input_file,4,8)"
   ]
  },
  {
   "cell_type": "code",
   "execution_count": null,
   "metadata": {},
   "outputs": [],
   "source": [
    "# Output:\n",
    "# 318: Shawshank Redemption, The (1994)             0.700000\n",
    "# 260: Star Wars: Episode IV - A New Hope (1977)    0.533333\n",
    "# 3578: Gladiator (2000)                            0.500000\n",
    "# 541: Blade Runner (1982)                          0.444444\n",
    "# 593: Silence of the Lambs, The (1991)             0.437500\n",
    "# 2571: Matrix, The (1999)                          0.416667\n",
    "# 1265: Groundhog Day (1993)                        0.416667\n",
    "# 34: Babe (1995)                                   0.400000\n"
   ]
  },
  {
   "cell_type": "code",
   "execution_count": 7,
   "metadata": {},
   "outputs": [],
   "source": [
    "#function that returns the n elements having the most number of ratings \n",
    "def topCount(prefs,n=5):\n",
    "    #counting the number of ratings and sorting them by descending order.\n",
    "    #No need to drop NaN's\n",
    "    scores=prefs.count(numeric_only=True).sort_values(ascending=False)\n",
    "    return scores[0:n]\n"
   ]
  },
  {
   "cell_type": "code",
   "execution_count": 8,
   "metadata": {},
   "outputs": [
    {
     "data": {
      "text/plain": [
       "1: Toy Story (1995)                                        17\n",
       "593: Silence of the Lambs, The (1991)                      16\n",
       "260: Star Wars: Episode IV - A New Hope (1977)             15\n",
       "1210: Star Wars: Episode VI - Return of the Jedi (1983)    14\n",
       "780: Independence Day (ID4) (1996)                         13\n",
       "2762: Sixth Sense, The (1999)                              12\n",
       "527: Schindler's List (1993)                               12\n",
       "2571: Matrix, The (1999)                                   12\n",
       "dtype: int64"
      ]
     },
     "execution_count": 8,
     "metadata": {},
     "output_type": "execute_result"
    }
   ],
   "source": [
    "#calling the topCount function to test it\n",
    "topCount(input_file,n=8)"
   ]
  },
  {
   "cell_type": "code",
   "execution_count": null,
   "metadata": {},
   "outputs": [],
   "source": [
    "# Output:\n",
    "# 1: Toy Story (1995)                                        17\n",
    "# 593: Silence of the Lambs, The (1991)                      16\n",
    "# 260: Star Wars: Episode IV - A New Hope (1977)             15\n",
    "# 1210: Star Wars: Episode VI - Return of the Jedi (1983)    14\n",
    "# 780: Independence Day (ID4) (1996)                         13\n",
    "# 2762: Sixth Sense, The (1999)                              12\n",
    "# 527: Schindler's List (1993)                               12\n",
    "# 2571: Matrix, The (1999)                                   12"
   ]
  },
  {
   "cell_type": "code",
   "execution_count": 9,
   "metadata": {
    "scrolled": false
   },
   "outputs": [],
   "source": [
    "#function that returns the top n other movie raters who also rated that movie\n",
    "#In percentages and ordered \n",
    "def topOccur(prefs,x='260: Star Wars: Episode IV - A New Hope (1977)',n=5):\n",
    "    #dropping all the Users that did not rate the movie named x\n",
    "    prefs_1 = prefs[prefs[x].notna()]\n",
    "    #counting the number of ratings for x \n",
    "    ratings_x=len(prefs_1[x])\n",
    "    #initializing two lists to use in the for loop\n",
    "    #the number of non null ratings\n",
    "    movie_ratings=[]\n",
    "    #and the name/title of the movie\n",
    "    movie_name=[]\n",
    "    #for loop that goes from 1 because we don't want to take 'User' column into account\n",
    "    for title in prefs.columns[1:input_file.shape[0]]:\n",
    "        #checking if the column is different from x, because if so we don't want it\n",
    "        if (title != x):\n",
    "            #dropping all the Users that did not rate movie x from the dataset \n",
    "            #so we only have the users that rated both movie 'x' and movie 'title'\n",
    "            #so we're not changing prefs_1 when we move throught the loop!\n",
    "            new_col=prefs_1[prefs_1[title].notna()]\n",
    "            #appending movie_ratings with the number of non null raters\n",
    "            movie_ratings.append(len(new_col[title]))\n",
    "            #appending movie_name with the name of the specific movie\n",
    "            movie_name.append(title)\n",
    "    #creating a dataframe with the 2 lists that we computed\n",
    "    new_pred=pd.DataFrame(movie_ratings,movie_name)\n",
    "    #dividing each movie rating count by the number of ratings that movie x has\n",
    "    #and hence getting the percentages\n",
    "    new_pred['new']=new_pred.iloc[:,0]/ratings_x\n",
    "    #sorting the computed percentages by descending order\n",
    "    scores=new_pred['new'].sort_values(ascending=False)\n",
    "    return scores[0:n]\n"
   ]
  },
  {
   "cell_type": "code",
   "execution_count": 10,
   "metadata": {},
   "outputs": [
    {
     "data": {
      "text/plain": [
       "593: Silence of the Lambs, The (1991)                      0.818182\n",
       "1: Toy Story (1995)                                        0.818182\n",
       "2762: Sixth Sense, The (1999)                              0.727273\n",
       "527: Schindler's List (1993)                               0.727273\n",
       "1265: Groundhog Day (1993)                                 0.727273\n",
       "3578: Gladiator (2000)                                     0.727273\n",
       "1210: Star Wars: Episode VI - Return of the Jedi (1983)    0.636364\n",
       "260: Star Wars: Episode IV - A New Hope (1977)             0.636364\n",
       "2916: Total Recall (1990)                                  0.636364\n",
       "780: Independence Day (ID4) (1996)                         0.636364\n",
       "Name: new, dtype: float64"
      ]
     },
     "execution_count": 10,
     "metadata": {},
     "output_type": "execute_result"
    }
   ],
   "source": [
    "##calling the topOccur function to test it\n",
    "topOccur(input_file,x='1198: Raiders of the Lost Ark (1981)',n=10)"
   ]
  },
  {
   "cell_type": "code",
   "execution_count": null,
   "metadata": {},
   "outputs": [],
   "source": [
    "# Output:\n",
    "# 593: Silence of the Lambs, The (1991)                      0.818182\n",
    "# 1: Toy Story (1995)                                        0.818182\n",
    "# 2762: Sixth Sense, The (1999)                              0.727273\n",
    "# 527: Schindler's List (1993)                               0.727273\n",
    "# 1265: Groundhog Day (1993)                                 0.727273\n",
    "# 3578: Gladiator (2000)                                     0.727273\n",
    "# 1210: Star Wars: Episode VI - Return of the Jedi (1983)    0.636364\n",
    "# 260: Star Wars: Episode IV - A New Hope (1977)             0.636364\n",
    "# 2916: Total Recall (1990)                                  0.636364\n",
    "# 780: Independence Day (ID4) (1996)                         0.636364"
   ]
  }
 ],
 "metadata": {
  "kernelspec": {
   "display_name": "Python 3",
   "language": "python",
   "name": "python3"
  },
  "language_info": {
   "codemirror_mode": {
    "name": "ipython",
    "version": 3
   },
   "file_extension": ".py",
   "mimetype": "text/x-python",
   "name": "python",
   "nbconvert_exporter": "python",
   "pygments_lexer": "ipython3",
   "version": "3.7.4"
  }
 },
 "nbformat": 4,
 "nbformat_minor": 2
}
